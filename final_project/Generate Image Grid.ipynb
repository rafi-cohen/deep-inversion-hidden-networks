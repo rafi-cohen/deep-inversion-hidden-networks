{
 "cells": [
  {
   "cell_type": "code",
   "execution_count": null,
   "metadata": {},
   "outputs": [],
   "source": [
    "import re\n",
    "import os\n",
    "import math\n",
    "import imghdr\n",
    "from PIL import Image\n",
    "from textwrap import wrap\n",
    "import matplotlib.pyplot as plt\n",
    "from mpl_toolkits.axes_grid1 import ImageGrid\n",
    "\n",
    "%matplotlib inline\n",
    "%load_ext autoreload\n",
    "%autoreload 2"
   ]
  },
  {
   "cell_type": "code",
   "execution_count": null,
   "metadata": {},
   "outputs": [],
   "source": [
    "def get_label(filename, pattern):\n",
    "    matches = re.findall(pattern, os.path.basename(filename))\n",
    "    if matches:\n",
    "        return matches[0]\n",
    "    else:\n",
    "        return None"
   ]
  },
  {
   "cell_type": "code",
   "execution_count": null,
   "metadata": {},
   "outputs": [],
   "source": [
    "def is_image(filename):\n",
    "    return imghdr.what(filename) is not None"
   ]
  },
  {
   "cell_type": "code",
   "execution_count": null,
   "metadata": {},
   "outputs": [],
   "source": [
    "def get_labeled_images(path, pattern):\n",
    "    full_file_paths = [os.path.join(path, file) for file in os.listdir(path)]\n",
    "    image_files = [file for file in full_file_paths if is_image(file)]\n",
    "    labels = [get_label(image, pattern) for image in image_files]\n",
    "    images, labels = zip(*[(Image.open(file), label) for file, label in zip(image_files, labels) if label is not None])\n",
    "    return images, labels"
   ]
  },
  {
   "cell_type": "code",
   "execution_count": null,
   "metadata": {},
   "outputs": [],
   "source": [
    "def make_grid_plot(images, labels, images_per_row=5, figsize=None, label_wrap_width=15,):\n",
    "    cols = images_per_row\n",
    "    rows = math.ceil(len(images) / cols)\n",
    "    grid = plt.figure(figsize=figsize)\n",
    "    for i, (image, label) in enumerate(zip(images, labels)):\n",
    "        ax = grid.add_subplot(rows, cols, i+1)\n",
    "        ax.imshow(image)\n",
    "        ax.set_title('\\n'.join(wrap(label, width=label_wrap_width)))\n",
    "        ax.axis('off')\n",
    "    return grid"
   ]
  },
  {
   "cell_type": "code",
   "execution_count": null,
   "metadata": {},
   "outputs": [],
   "source": [
    "# parameters\n",
    "path = 'Report/Figures/Experiments/DI + HiddenSubnets'\n",
    "regex = r'\\d*_([^\\.,]*).*'\n",
    "figsize = (15, 10)\n",
    "label_wrap_width = 20\n",
    "output_file = os.path.join(os.path.dirname(path), 'DI + HiddenSubnets.png')\n",
    "print(output_file)"
   ]
  },
  {
   "cell_type": "code",
   "execution_count": null,
   "metadata": {},
   "outputs": [],
   "source": [
    "images, labels = get_labeled_images(path, regex)\n",
    "grid = make_grid_plot(images, labels, figsize=figsize, label_wrap_width=label_wrap_width)\n",
    "grid.show()\n",
    "grid.savefig(output_file, bbox_inches='tight')"
   ]
  },
  {
   "cell_type": "code",
   "execution_count": null,
   "metadata": {},
   "outputs": [],
   "source": [
    "# parameters\n",
    "path = 'Report/Figures/Experiments/DI Image Examples'\n",
    "regex = r'\\d*_([^\\.,]*).*'\n",
    "figsize = (15, 10)\n",
    "label_wrap_width = 20\n",
    "output_file = os.path.join(os.path.dirname(path), 'DI Image Examples.png')\n",
    "print(output_file)"
   ]
  },
  {
   "cell_type": "code",
   "execution_count": null,
   "metadata": {},
   "outputs": [],
   "source": [
    "images, labels = get_labeled_images(path, regex)\n",
    "grid = make_grid_plot(images, labels, figsize=figsize, label_wrap_width=label_wrap_width)\n",
    "grid.show()\n",
    "grid.savefig(output_file, bbox_inches='tight')"
   ]
  },
  {
   "cell_type": "code",
   "execution_count": null,
   "outputs": [],
   "source": [
    "root = 'Report/Figures/Experiments/dataset'\n",
    "folders = [os.path.join(root, folder) for folder in os.listdir(root)]\n",
    "images = []\n",
    "for folder in folders:\n",
    "    for image_file in os.listdir(folder):\n",
    "        full_path = os.path.join(folder, image_file)\n",
    "        im = Image.open(full_path)\n",
    "        images.append(im)\n",
    "\n",
    "# Check all folders have same number of images\n",
    "for folder1, folder2 in zip(folders, folders[1:]+[folders[0]]):\n",
    "    assert len(os.listdir(folder1)) == len(os.listdir(folder2)), f'{folder1} and {folder2} have different number of images in them!'\n",
    "\n",
    "images_per_row = len(images) // len(folders)\n",
    "\n",
    "fig = plt.figure(figsize=(50,50))\n",
    "grid = ImageGrid(fig, 111,  # similar to subplot(111)\n",
    "                 nrows_ncols=(len(folders), images_per_row),  # creates 2x2 grid of axes\n",
    "                 axes_pad=0.1,  # pad between axes in inch.\n",
    "                 )\n",
    "\n",
    "for ax, im in zip(grid, images):\n",
    "    ax.imshow(im)\n",
    "    ax.axis('off')\n",
    "\n",
    "plt.show()"
   ],
   "metadata": {
    "collapsed": false,
    "pycharm": {
     "name": "#%%\n"
    }
   }
  },
  {
   "cell_type": "code",
   "execution_count": null,
   "metadata": {},
   "outputs": [],
   "source": [
    "root = 'Report/Figures/Experiments/dataset'\n",
    "folders = [os.path.join(root, folder) for folder in os.listdir(root)]\n",
    "images = []\n",
    "for folder in folders:\n",
    "    for image_file in os.listdir(folder):\n",
    "        full_path = os.path.join(folder, image_file)\n",
    "        im = Image.open(full_path)\n",
    "        images.append(im)\n",
    "\n",
    "# Check all folders have same number of images\n",
    "for folder1, folder2 in zip(folders, folders[1:]+[folders[0]]):\n",
    "    assert len(os.listdir(folder1)) == len(os.listdir(folder2)), f'{folder1} and {folder2} have different number of images in them!'\n",
    "\n",
    "images_per_row = len(images) // len(folders)\n",
    "\n",
    "fig = plt.figure(figsize=(50,50))\n",
    "grid = ImageGrid(fig, 111,  # similar to subplot(111)\n",
    "                 nrows_ncols=(len(folders), images_per_row),  # creates 2x2 grid of axes\n",
    "                 axes_pad=0.1,  # pad between axes in inch.\n",
    "                 )\n",
    "\n",
    "for ax, im in zip(grid, images):\n",
    "    ax.imshow(im)\n",
    "    ax.axis('off')\n",
    "\n",
    "plt.show()"
   ]
  }
 ],
 "metadata": {
  "kernelspec": {
   "display_name": "Python 3",
   "language": "python",
   "name": "python3"
  },
  "language_info": {
   "codemirror_mode": {
    "name": "ipython",
    "version": 3
   },
   "file_extension": ".py",
   "mimetype": "text/x-python",
   "name": "python",
   "nbconvert_exporter": "python",
   "pygments_lexer": "ipython3",
   "version": "3.7.6"
  },
  "pycharm": {
   "stem_cell": {
    "cell_type": "raw",
    "source": [],
    "metadata": {
     "collapsed": false
    }
   }
  }
 },
 "nbformat": 4,
 "nbformat_minor": 4
}