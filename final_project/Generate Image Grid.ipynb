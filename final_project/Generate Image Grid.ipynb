{
 "cells": [
  {
   "cell_type": "code",
   "execution_count": null,
   "metadata": {},
   "outputs": [],
   "source": [
    "import re\n",
    "import os\n",
    "import math\n",
    "import imghdr\n",
    "from PIL import Image\n",
    "from textwrap import wrap\n",
    "import matplotlib.pyplot as plt\n",
    "from mpl_toolkits.axes_grid1 import ImageGrid\n",
    "\n",
    "%matplotlib inline\n",
    "%load_ext autoreload\n",
    "%autoreload 2"
   ]
  },
  {
   "cell_type": "code",
   "execution_count": null,
   "metadata": {},
   "outputs": [],
   "source": [
    "def get_label(filename, pattern):\n",
    "    matches = re.findall(pattern, os.path.basename(filename))\n",
    "    if matches:\n",
    "        return matches[0]\n",
    "    else:\n",
    "        return None"
   ]
  },
  {
   "cell_type": "code",
   "execution_count": null,
   "metadata": {},
   "outputs": [],
   "source": [
    "def is_image(filename):\n",
    "    return imghdr.what(filename) is not None"
   ]
  },
  {
   "cell_type": "code",
   "execution_count": null,
   "metadata": {},
   "outputs": [],
   "source": [
    "def get_labeled_images(path, pattern):\n",
    "    full_file_paths = [os.path.join(path, file) for file in os.listdir(path)]\n",
    "    image_files = [file for file in full_file_paths if is_image(file)]\n",
    "    labels = [get_label(image, pattern) for image in image_files]\n",
    "    images, labels = zip(*[(Image.open(file), label) for file, label in zip(image_files, labels) if label is not None])\n",
    "    return images, labels"
   ]
  },
  {
   "cell_type": "code",
   "execution_count": null,
   "metadata": {},
   "outputs": [],
   "source": [
    "def make_grid_plot(images, labels, images_per_row=5, figsize=None, label_wrap_width=15,):\n",
    "    cols = images_per_row\n",
    "    rows = math.ceil(len(images) / cols)\n",
    "    grid = plt.figure(figsize=figsize)\n",
    "    for i, (image, label) in enumerate(zip(images, labels)):\n",
    "        ax = grid.add_subplot(rows, cols, i+1)\n",
    "        ax.imshow(image)\n",
    "        ax.set_title('\\n'.join(wrap(label, width=label_wrap_width)))\n",
    "        ax.axis('off')\n",
    "    return grid"
   ]
  },
  {
   "cell_type": "code",
   "execution_count": null,
   "metadata": {},
   "outputs": [],
   "source": [
    "# parameters\n",
    "path = 'Report/Figures/Experiments/DI + HiddenSubnets'\n",
    "regex = r'\\d*_([^\\.,]*).*'\n",
    "figsize = (10, 6)\n",
    "label_wrap_width = 15\n",
    "output_file = os.path.join(os.path.dirname(path), 'DI + HiddenSubnets.png')\n",
    "print(output_file)"
   ]
  },
  {
   "cell_type": "code",
   "execution_count": null,
   "metadata": {},
   "outputs": [],
   "source": [
    "images, labels = get_labeled_images(path, regex)\n",
    "grid = make_grid_plot(images, labels, figsize=figsize, label_wrap_width=label_wrap_width)\n",
    "grid.show()\n",
    "grid.savefig(output_file, bbox_inches='tight')"
   ]
  }
 ],
 "metadata": {
  "kernelspec": {
   "display_name": "Python 3",
   "language": "python",
   "name": "python3"
  },
  "language_info": {
   "codemirror_mode": {
    "name": "ipython",
    "version": 3
   },
   "file_extension": ".py",
   "mimetype": "text/x-python",
   "name": "python",
   "nbconvert_exporter": "python",
   "pygments_lexer": "ipython3",
   "version": "3.7.4"
  }
 },
 "nbformat": 4,
 "nbformat_minor": 4
}
